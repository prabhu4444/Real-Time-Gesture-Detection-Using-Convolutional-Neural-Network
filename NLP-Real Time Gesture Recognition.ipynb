{
 "cells": [
  {
   "cell_type": "markdown",
   "metadata": {},
   "source": [
    "# Install and Import Dependencies"
   ]
  },
  {
   "cell_type": "code",
   "execution_count": 12,
   "metadata": {},
   "outputs": [],
   "source": [
    "import mediapipe as mp\n",
    "import cv2"
   ]
  },
  {
   "cell_type": "code",
   "execution_count": 13,
   "metadata": {},
   "outputs": [],
   "source": [
    "mp_drawing = mp.solutions.drawing_utils \n",
    "mp_holistic = mp.solutions.holistic"
   ]
  },
  {
   "cell_type": "markdown",
   "metadata": {},
   "source": [
    "#  Make Detections"
   ]
  },
  {
   "cell_type": "code",
   "execution_count": 14,
   "metadata": {},
   "outputs": [],
   "source": [
    "cap = cv2.VideoCapture(0)\n",
    "# Mediapipe Holestic model initiation for integrating face, hand and pose components\n",
    "with mp_holistic.Holistic(min_detection_confidence=0.5, min_tracking_confidence=0.5) as holistic:\n",
    "    \n",
    "    while cap.isOpened():\n",
    "        ret, frame = cap.read()\n",
    "        \n",
    "        # Recolor Webcam-Feed\n",
    "        image = cv2.cvtColor(frame, cv2.COLOR_BGR2RGB)\n",
    "        image.flags.writeable = False        \n",
    "        \n",
    "        # Make Detections\n",
    "        results = holistic.process(image)\n",
    "        # print(results.face_landmarks)\n",
    "        \n",
    "        \n",
    "        # Recolor image back to BGR for rendering\n",
    "        image.flags.writeable = True   \n",
    "        image = cv2.cvtColor(image, cv2.COLOR_RGB2BGR)\n",
    "        \n",
    "        #  Face landmarks\n",
    "        mp_drawing.draw_landmarks(image, results.face_landmarks, mp_holistic.FACEMESH_CONTOURS, \n",
    "                                 mp_drawing.DrawingSpec(color=(80,110,10), thickness=1, circle_radius=1),\n",
    "                                 mp_drawing.DrawingSpec(color=(80,256,121), thickness=1, circle_radius=1)\n",
    "                                 )\n",
    "        \n",
    "        #  Right hand\n",
    "        mp_drawing.draw_landmarks(image, results.right_hand_landmarks, mp_holistic.HAND_CONNECTIONS, \n",
    "                                 mp_drawing.DrawingSpec(color=(80,22,10), thickness=2, circle_radius=4),\n",
    "                                 mp_drawing.DrawingSpec(color=(80,44,121), thickness=2, circle_radius=2)\n",
    "                                 )\n",
    "\n",
    "        #  Left Hand\n",
    "        mp_drawing.draw_landmarks(image, results.left_hand_landmarks, mp_holistic.HAND_CONNECTIONS, \n",
    "                                 mp_drawing.DrawingSpec(color=(121,22,76), thickness=2, circle_radius=4),\n",
    "                                 mp_drawing.DrawingSpec(color=(121,44,250), thickness=2, circle_radius=2)\n",
    "                                 )\n",
    "\n",
    "        #  Body Pose\n",
    "        mp_drawing.draw_landmarks(image, results.pose_landmarks, mp_holistic.POSE_CONNECTIONS, \n",
    "                                 mp_drawing.DrawingSpec(color=(245,117,66), thickness=2, circle_radius=4),\n",
    "                                 mp_drawing.DrawingSpec(color=(245,66,230), thickness=2, circle_radius=2)\n",
    "                                 )\n",
    "                        \n",
    "        cv2.imshow('Raw Webcam Feed', image)\n",
    "\n",
    "        if cv2.waitKey(10) & 0xFF == ord('q'):\n",
    "            break\n",
    "\n",
    "cap.release()\n",
    "cv2.destroyAllWindows()"
   ]
  },
  {
   "cell_type": "code",
   "execution_count": 15,
   "metadata": {},
   "outputs": [
    {
     "data": {
      "text/plain": [
       "x: 0.47609055042266846\n",
       "y: 0.4888790249824524\n",
       "z: -0.02681177668273449"
      ]
     },
     "execution_count": 15,
     "metadata": {},
     "output_type": "execute_result"
    }
   ],
   "source": [
    "# Result Landmarks\n",
    "results.face_landmarks.landmark[0]"
   ]
  },
  {
   "cell_type": "markdown",
   "metadata": {},
   "source": [
    "# 2. Capture Landmarks & Export to CSV\n",
    "<!-- <img src=\"https://i.imgur.com/8bForKY.png\"> -->\n",
    "<!-- <img src=\"https://i.imgur.com/AzKNp7A.png\"> -->"
   ]
  },
  {
   "cell_type": "code",
   "execution_count": 16,
   "metadata": {},
   "outputs": [],
   "source": [
    "import csv\n",
    "import os # helps with exporting to a folder structure\n",
    "import numpy as np"
   ]
  },
  {
   "cell_type": "code",
   "execution_count": 17,
   "metadata": {},
   "outputs": [
    {
     "data": {
      "text/plain": [
       "501"
      ]
     },
     "execution_count": 17,
     "metadata": {},
     "output_type": "execute_result"
    }
   ],
   "source": [
    "num_coords = len(results.pose_landmarks.landmark)+len(results.face_landmarks.landmark) # number of landmarks for pose (468) + number of landmarks for face (33)\n",
    "num_coords"
   ]
  },
  {
   "cell_type": "code",
   "execution_count": 18,
   "metadata": {},
   "outputs": [],
   "source": [
    "# creating Header row for CSV\n",
    "\n",
    "landmarks = ['class']\n",
    "for val in range(1, num_coords+1):\n",
    "    landmarks += ['x{}'.format(val), 'y{}'.format(val), 'z{}'.format(val), 'v{}'.format(val)]"
   ]
  },
  {
   "cell_type": "code",
   "execution_count": 19,
   "metadata": {},
   "outputs": [],
   "source": [
    "# landmarks"
   ]
  },
  {
   "cell_type": "code",
   "execution_count": 20,
   "metadata": {},
   "outputs": [],
   "source": [
    "# Exporting Co-ordinates to CSV uding csv_writer.writerow\n",
    "\n",
    "with open('coords.csv', mode='w', newline='') as f:\n",
    "    csv_writer = csv.writer(f, delimiter=',', quotechar='\"', quoting=csv.QUOTE_MINIMAL)\n",
    "    csv_writer.writerow(landmarks)"
   ]
  },
  {
   "cell_type": "code",
   "execution_count": 48,
   "metadata": {},
   "outputs": [],
   "source": [
    "# Exporting with a class name \n",
    "\n",
    "class_name = \"Standing Up\""
   ]
  },
  {
   "cell_type": "code",
   "execution_count": 49,
   "metadata": {},
   "outputs": [],
   "source": [
    "# Simmmilar to Part 1 but this time we export co-ordinates to CSV\n",
    "\n",
    "cap = cv2.VideoCapture(0)\n",
    "# Mediapipe Holestic model initiation for integrating face, hand and pose components\n",
    "with mp_holistic.Holistic(min_detection_confidence=0.5, min_tracking_confidence=0.5) as holistic:\n",
    "    \n",
    "    while cap.isOpened():\n",
    "        ret, frame = cap.read()\n",
    "        \n",
    "        # Recolor Webcam-Feed\n",
    "        image = cv2.cvtColor(frame, cv2.COLOR_BGR2RGB)\n",
    "        image.flags.writeable = False        \n",
    "        \n",
    "        # Make Detections\n",
    "        results = holistic.process(image)\n",
    "        # print(results.face_landmarks)\n",
    "        \n",
    "        \n",
    "        # Recolor image back to BGR for rendering\n",
    "        image.flags.writeable = True   \n",
    "        image = cv2.cvtColor(image, cv2.COLOR_RGB2BGR)\n",
    "        \n",
    "        #  Draw face landmarks\n",
    "        mp_drawing.draw_landmarks(image, results.face_landmarks, mp_holistic.FACEMESH_CONTOURS, \n",
    "                                 mp_drawing.DrawingSpec(color=(80,110,10), thickness=1, circle_radius=1),\n",
    "                                 mp_drawing.DrawingSpec(color=(80,256,121), thickness=1, circle_radius=1)\n",
    "                                 )\n",
    "        \n",
    "        #  Right hand\n",
    "        mp_drawing.draw_landmarks(image, results.right_hand_landmarks, mp_holistic.HAND_CONNECTIONS, \n",
    "                                 mp_drawing.DrawingSpec(color=(80,22,10), thickness=2, circle_radius=4),\n",
    "                                 mp_drawing.DrawingSpec(color=(80,44,121), thickness=2, circle_radius=2)\n",
    "                                 )\n",
    "\n",
    "        #  Left Hand\n",
    "        mp_drawing.draw_landmarks(image, results.left_hand_landmarks, mp_holistic.HAND_CONNECTIONS, \n",
    "                                 mp_drawing.DrawingSpec(color=(121,22,76), thickness=2, circle_radius=4),\n",
    "                                 mp_drawing.DrawingSpec(color=(121,44,250), thickness=2, circle_radius=2)\n",
    "                                 )\n",
    "\n",
    "        #  Body Pose\n",
    "        mp_drawing.draw_landmarks(image, results.pose_landmarks, mp_holistic.POSE_CONNECTIONS, \n",
    "                                 mp_drawing.DrawingSpec(color=(245,117,66), thickness=2, circle_radius=4),\n",
    "                                 mp_drawing.DrawingSpec(color=(245,66,230), thickness=2, circle_radius=2)\n",
    "                                 )\n",
    "        # Export coordinates\n",
    "        try:\n",
    "            # Extract Pose landmarks\n",
    "            pose = results.pose_landmarks.landmark\n",
    "            pose_row = list(np.array([[landmark.x, landmark.y, landmark.z, landmark.visibility] for landmark in pose]).flatten())\n",
    "            \n",
    "            # Extract Face landmarks\n",
    "            face = results.face_landmarks.landmark\n",
    "            face_row = list(np.array([[landmark.x, landmark.y, landmark.z, landmark.visibility] for landmark in face]).flatten())\n",
    "            \n",
    "            # Concate rows\n",
    "            row = pose_row+face_row\n",
    "            \n",
    "            # Append class name \n",
    "            row.insert(0, class_name)\n",
    "            \n",
    "            # Export to CSV\n",
    "            with open('coords.csv', mode='a', newline='') as f:\n",
    "                csv_writer = csv.writer(f, delimiter=',', quotechar='\"', quoting=csv.QUOTE_MINIMAL)\n",
    "                csv_writer.writerow(row) \n",
    "            \n",
    "        except:\n",
    "            pass\n",
    "                        \n",
    "        cv2.imshow('Raw Webcam Feed', image)\n",
    "\n",
    "        if cv2.waitKey(10) & 0xFF == ord('q'):\n",
    "            break\n",
    "\n",
    "cap.release()\n",
    "cv2.destroyAllWindows()"
   ]
  },
  {
   "cell_type": "markdown",
   "metadata": {},
   "source": [
    "# Train Custom Model Using Scikit Learn"
   ]
  },
  {
   "cell_type": "markdown",
   "metadata": {},
   "source": [
    "### 1 Read in Collected Data and Process"
   ]
  },
  {
   "cell_type": "code",
   "execution_count": 50,
   "metadata": {},
   "outputs": [],
   "source": [
    "import pandas as pd\n",
    "from sklearn.model_selection import train_test_split"
   ]
  },
  {
   "cell_type": "code",
   "execution_count": 51,
   "metadata": {},
   "outputs": [],
   "source": [
    "df = pd.read_csv('coords.csv')"
   ]
  },
  {
   "cell_type": "code",
   "execution_count": 74,
   "metadata": {
    "scrolled": true
   },
   "outputs": [
    {
     "data": {
      "text/html": [
       "<div>\n",
       "<style scoped>\n",
       "    .dataframe tbody tr th:only-of-type {\n",
       "        vertical-align: middle;\n",
       "    }\n",
       "\n",
       "    .dataframe tbody tr th {\n",
       "        vertical-align: top;\n",
       "    }\n",
       "\n",
       "    .dataframe thead th {\n",
       "        text-align: right;\n",
       "    }\n",
       "</style>\n",
       "<table border=\"1\" class=\"dataframe\">\n",
       "  <thead>\n",
       "    <tr style=\"text-align: right;\">\n",
       "      <th></th>\n",
       "      <th>class</th>\n",
       "      <th>x1</th>\n",
       "      <th>y1</th>\n",
       "      <th>z1</th>\n",
       "      <th>v1</th>\n",
       "      <th>x2</th>\n",
       "      <th>y2</th>\n",
       "      <th>z2</th>\n",
       "      <th>v2</th>\n",
       "      <th>x3</th>\n",
       "      <th>...</th>\n",
       "      <th>z499</th>\n",
       "      <th>v499</th>\n",
       "      <th>x500</th>\n",
       "      <th>y500</th>\n",
       "      <th>z500</th>\n",
       "      <th>v500</th>\n",
       "      <th>x501</th>\n",
       "      <th>y501</th>\n",
       "      <th>z501</th>\n",
       "      <th>v501</th>\n",
       "    </tr>\n",
       "  </thead>\n",
       "  <tbody>\n",
       "    <tr>\n",
       "      <th>0</th>\n",
       "      <td>Thumbs Up</td>\n",
       "      <td>0.414089</td>\n",
       "      <td>0.407565</td>\n",
       "      <td>-0.926686</td>\n",
       "      <td>0.999919</td>\n",
       "      <td>0.432624</td>\n",
       "      <td>0.358319</td>\n",
       "      <td>-0.843457</td>\n",
       "      <td>0.999821</td>\n",
       "      <td>0.444706</td>\n",
       "      <td>...</td>\n",
       "      <td>-0.001313</td>\n",
       "      <td>0.0</td>\n",
       "      <td>0.468765</td>\n",
       "      <td>0.376737</td>\n",
       "      <td>0.013527</td>\n",
       "      <td>0.0</td>\n",
       "      <td>0.472230</td>\n",
       "      <td>0.372671</td>\n",
       "      <td>0.014051</td>\n",
       "      <td>0.0</td>\n",
       "    </tr>\n",
       "    <tr>\n",
       "      <th>1</th>\n",
       "      <td>Thumbs Up</td>\n",
       "      <td>0.414763</td>\n",
       "      <td>0.407829</td>\n",
       "      <td>-0.905378</td>\n",
       "      <td>0.999918</td>\n",
       "      <td>0.433663</td>\n",
       "      <td>0.358908</td>\n",
       "      <td>-0.829413</td>\n",
       "      <td>0.999818</td>\n",
       "      <td>0.446065</td>\n",
       "      <td>...</td>\n",
       "      <td>-0.002077</td>\n",
       "      <td>0.0</td>\n",
       "      <td>0.469554</td>\n",
       "      <td>0.377602</td>\n",
       "      <td>0.012555</td>\n",
       "      <td>0.0</td>\n",
       "      <td>0.472963</td>\n",
       "      <td>0.374379</td>\n",
       "      <td>0.013008</td>\n",
       "      <td>0.0</td>\n",
       "    </tr>\n",
       "    <tr>\n",
       "      <th>2</th>\n",
       "      <td>Thumbs Up</td>\n",
       "      <td>0.414994</td>\n",
       "      <td>0.408249</td>\n",
       "      <td>-0.894446</td>\n",
       "      <td>0.999919</td>\n",
       "      <td>0.434616</td>\n",
       "      <td>0.359369</td>\n",
       "      <td>-0.819523</td>\n",
       "      <td>0.999820</td>\n",
       "      <td>0.447265</td>\n",
       "      <td>...</td>\n",
       "      <td>-0.000467</td>\n",
       "      <td>0.0</td>\n",
       "      <td>0.471017</td>\n",
       "      <td>0.378174</td>\n",
       "      <td>0.014460</td>\n",
       "      <td>0.0</td>\n",
       "      <td>0.474558</td>\n",
       "      <td>0.374432</td>\n",
       "      <td>0.015072</td>\n",
       "      <td>0.0</td>\n",
       "    </tr>\n",
       "    <tr>\n",
       "      <th>3</th>\n",
       "      <td>Thumbs Up</td>\n",
       "      <td>0.416811</td>\n",
       "      <td>0.409154</td>\n",
       "      <td>-0.889051</td>\n",
       "      <td>0.999920</td>\n",
       "      <td>0.436196</td>\n",
       "      <td>0.360598</td>\n",
       "      <td>-0.813763</td>\n",
       "      <td>0.999821</td>\n",
       "      <td>0.448735</td>\n",
       "      <td>...</td>\n",
       "      <td>-0.001432</td>\n",
       "      <td>0.0</td>\n",
       "      <td>0.471922</td>\n",
       "      <td>0.378373</td>\n",
       "      <td>0.014184</td>\n",
       "      <td>0.0</td>\n",
       "      <td>0.475283</td>\n",
       "      <td>0.375294</td>\n",
       "      <td>0.014699</td>\n",
       "      <td>0.0</td>\n",
       "    </tr>\n",
       "    <tr>\n",
       "      <th>4</th>\n",
       "      <td>Thumbs Up</td>\n",
       "      <td>0.416805</td>\n",
       "      <td>0.409854</td>\n",
       "      <td>-0.871605</td>\n",
       "      <td>0.999921</td>\n",
       "      <td>0.436278</td>\n",
       "      <td>0.361166</td>\n",
       "      <td>-0.798493</td>\n",
       "      <td>0.999822</td>\n",
       "      <td>0.448885</td>\n",
       "      <td>...</td>\n",
       "      <td>-0.002613</td>\n",
       "      <td>0.0</td>\n",
       "      <td>0.471913</td>\n",
       "      <td>0.376075</td>\n",
       "      <td>0.011964</td>\n",
       "      <td>0.0</td>\n",
       "      <td>0.475247</td>\n",
       "      <td>0.373183</td>\n",
       "      <td>0.012304</td>\n",
       "      <td>0.0</td>\n",
       "    </tr>\n",
       "  </tbody>\n",
       "</table>\n",
       "<p>5 rows × 2005 columns</p>\n",
       "</div>"
      ],
      "text/plain": [
       "       class        x1        y1        z1        v1        x2        y2  \\\n",
       "0  Thumbs Up  0.414089  0.407565 -0.926686  0.999919  0.432624  0.358319   \n",
       "1  Thumbs Up  0.414763  0.407829 -0.905378  0.999918  0.433663  0.358908   \n",
       "2  Thumbs Up  0.414994  0.408249 -0.894446  0.999919  0.434616  0.359369   \n",
       "3  Thumbs Up  0.416811  0.409154 -0.889051  0.999920  0.436196  0.360598   \n",
       "4  Thumbs Up  0.416805  0.409854 -0.871605  0.999921  0.436278  0.361166   \n",
       "\n",
       "         z2        v2        x3  ...      z499  v499      x500      y500  \\\n",
       "0 -0.843457  0.999821  0.444706  ... -0.001313   0.0  0.468765  0.376737   \n",
       "1 -0.829413  0.999818  0.446065  ... -0.002077   0.0  0.469554  0.377602   \n",
       "2 -0.819523  0.999820  0.447265  ... -0.000467   0.0  0.471017  0.378174   \n",
       "3 -0.813763  0.999821  0.448735  ... -0.001432   0.0  0.471922  0.378373   \n",
       "4 -0.798493  0.999822  0.448885  ... -0.002613   0.0  0.471913  0.376075   \n",
       "\n",
       "       z500  v500      x501      y501      z501  v501  \n",
       "0  0.013527   0.0  0.472230  0.372671  0.014051   0.0  \n",
       "1  0.012555   0.0  0.472963  0.374379  0.013008   0.0  \n",
       "2  0.014460   0.0  0.474558  0.374432  0.015072   0.0  \n",
       "3  0.014184   0.0  0.475283  0.375294  0.014699   0.0  \n",
       "4  0.011964   0.0  0.475247  0.373183  0.012304   0.0  \n",
       "\n",
       "[5 rows x 2005 columns]"
      ]
     },
     "execution_count": 74,
     "metadata": {},
     "output_type": "execute_result"
    }
   ],
   "source": [
    "df.head()"
   ]
  },
  {
   "cell_type": "code",
   "execution_count": 75,
   "metadata": {},
   "outputs": [
    {
     "data": {
      "text/html": [
       "<div>\n",
       "<style scoped>\n",
       "    .dataframe tbody tr th:only-of-type {\n",
       "        vertical-align: middle;\n",
       "    }\n",
       "\n",
       "    .dataframe tbody tr th {\n",
       "        vertical-align: top;\n",
       "    }\n",
       "\n",
       "    .dataframe thead th {\n",
       "        text-align: right;\n",
       "    }\n",
       "</style>\n",
       "<table border=\"1\" class=\"dataframe\">\n",
       "  <thead>\n",
       "    <tr style=\"text-align: right;\">\n",
       "      <th></th>\n",
       "      <th>class</th>\n",
       "      <th>x1</th>\n",
       "      <th>y1</th>\n",
       "      <th>z1</th>\n",
       "      <th>v1</th>\n",
       "      <th>x2</th>\n",
       "      <th>y2</th>\n",
       "      <th>z2</th>\n",
       "      <th>v2</th>\n",
       "      <th>x3</th>\n",
       "      <th>...</th>\n",
       "      <th>z499</th>\n",
       "      <th>v499</th>\n",
       "      <th>x500</th>\n",
       "      <th>y500</th>\n",
       "      <th>z500</th>\n",
       "      <th>v500</th>\n",
       "      <th>x501</th>\n",
       "      <th>y501</th>\n",
       "      <th>z501</th>\n",
       "      <th>v501</th>\n",
       "    </tr>\n",
       "  </thead>\n",
       "  <tbody>\n",
       "    <tr>\n",
       "      <th>388</th>\n",
       "      <td>Drowsy</td>\n",
       "      <td>0.324336</td>\n",
       "      <td>0.637896</td>\n",
       "      <td>-1.007702</td>\n",
       "      <td>0.991579</td>\n",
       "      <td>0.313133</td>\n",
       "      <td>0.571170</td>\n",
       "      <td>-1.032566</td>\n",
       "      <td>0.982105</td>\n",
       "      <td>0.322348</td>\n",
       "      <td>...</td>\n",
       "      <td>-0.018147</td>\n",
       "      <td>0.0</td>\n",
       "      <td>0.303159</td>\n",
       "      <td>0.570838</td>\n",
       "      <td>-0.041461</td>\n",
       "      <td>0.0</td>\n",
       "      <td>0.302816</td>\n",
       "      <td>0.562885</td>\n",
       "      <td>-0.044441</td>\n",
       "      <td>0.0</td>\n",
       "    </tr>\n",
       "    <tr>\n",
       "      <th>389</th>\n",
       "      <td>Standing Up</td>\n",
       "      <td>0.483750</td>\n",
       "      <td>0.047641</td>\n",
       "      <td>-0.791061</td>\n",
       "      <td>0.999933</td>\n",
       "      <td>0.508691</td>\n",
       "      <td>0.001452</td>\n",
       "      <td>-0.762163</td>\n",
       "      <td>0.999869</td>\n",
       "      <td>0.522984</td>\n",
       "      <td>...</td>\n",
       "      <td>0.000877</td>\n",
       "      <td>0.0</td>\n",
       "      <td>0.543293</td>\n",
       "      <td>-0.020725</td>\n",
       "      <td>0.017091</td>\n",
       "      <td>0.0</td>\n",
       "      <td>0.548040</td>\n",
       "      <td>-0.028908</td>\n",
       "      <td>0.018152</td>\n",
       "      <td>0.0</td>\n",
       "    </tr>\n",
       "    <tr>\n",
       "      <th>390</th>\n",
       "      <td>Standing Up</td>\n",
       "      <td>0.473050</td>\n",
       "      <td>0.031469</td>\n",
       "      <td>-0.445751</td>\n",
       "      <td>0.999833</td>\n",
       "      <td>0.487423</td>\n",
       "      <td>0.001360</td>\n",
       "      <td>-0.426568</td>\n",
       "      <td>0.999568</td>\n",
       "      <td>0.496246</td>\n",
       "      <td>...</td>\n",
       "      <td>0.001607</td>\n",
       "      <td>0.0</td>\n",
       "      <td>0.505612</td>\n",
       "      <td>0.043462</td>\n",
       "      <td>0.017250</td>\n",
       "      <td>0.0</td>\n",
       "      <td>0.506997</td>\n",
       "      <td>0.040154</td>\n",
       "      <td>0.018376</td>\n",
       "      <td>0.0</td>\n",
       "    </tr>\n",
       "    <tr>\n",
       "      <th>391</th>\n",
       "      <td>Standing Up</td>\n",
       "      <td>0.488846</td>\n",
       "      <td>0.020633</td>\n",
       "      <td>-0.526126</td>\n",
       "      <td>0.999841</td>\n",
       "      <td>0.502742</td>\n",
       "      <td>-0.008212</td>\n",
       "      <td>-0.504925</td>\n",
       "      <td>0.999583</td>\n",
       "      <td>0.512030</td>\n",
       "      <td>...</td>\n",
       "      <td>0.000906</td>\n",
       "      <td>0.0</td>\n",
       "      <td>0.508203</td>\n",
       "      <td>0.033624</td>\n",
       "      <td>0.010968</td>\n",
       "      <td>0.0</td>\n",
       "      <td>0.509305</td>\n",
       "      <td>0.031508</td>\n",
       "      <td>0.011511</td>\n",
       "      <td>0.0</td>\n",
       "    </tr>\n",
       "    <tr>\n",
       "      <th>392</th>\n",
       "      <td>Standing Up</td>\n",
       "      <td>0.536482</td>\n",
       "      <td>0.025484</td>\n",
       "      <td>-0.605942</td>\n",
       "      <td>0.999599</td>\n",
       "      <td>0.558236</td>\n",
       "      <td>-0.007861</td>\n",
       "      <td>-0.577477</td>\n",
       "      <td>0.998839</td>\n",
       "      <td>0.570211</td>\n",
       "      <td>...</td>\n",
       "      <td>0.006773</td>\n",
       "      <td>0.0</td>\n",
       "      <td>0.574597</td>\n",
       "      <td>0.015530</td>\n",
       "      <td>0.021598</td>\n",
       "      <td>0.0</td>\n",
       "      <td>0.577846</td>\n",
       "      <td>0.011801</td>\n",
       "      <td>0.022592</td>\n",
       "      <td>0.0</td>\n",
       "    </tr>\n",
       "  </tbody>\n",
       "</table>\n",
       "<p>5 rows × 2005 columns</p>\n",
       "</div>"
      ],
      "text/plain": [
       "           class        x1        y1        z1        v1        x2        y2  \\\n",
       "388       Drowsy  0.324336  0.637896 -1.007702  0.991579  0.313133  0.571170   \n",
       "389  Standing Up  0.483750  0.047641 -0.791061  0.999933  0.508691  0.001452   \n",
       "390  Standing Up  0.473050  0.031469 -0.445751  0.999833  0.487423  0.001360   \n",
       "391  Standing Up  0.488846  0.020633 -0.526126  0.999841  0.502742 -0.008212   \n",
       "392  Standing Up  0.536482  0.025484 -0.605942  0.999599  0.558236 -0.007861   \n",
       "\n",
       "           z2        v2        x3  ...      z499  v499      x500      y500  \\\n",
       "388 -1.032566  0.982105  0.322348  ... -0.018147   0.0  0.303159  0.570838   \n",
       "389 -0.762163  0.999869  0.522984  ...  0.000877   0.0  0.543293 -0.020725   \n",
       "390 -0.426568  0.999568  0.496246  ...  0.001607   0.0  0.505612  0.043462   \n",
       "391 -0.504925  0.999583  0.512030  ...  0.000906   0.0  0.508203  0.033624   \n",
       "392 -0.577477  0.998839  0.570211  ...  0.006773   0.0  0.574597  0.015530   \n",
       "\n",
       "         z500  v500      x501      y501      z501  v501  \n",
       "388 -0.041461   0.0  0.302816  0.562885 -0.044441   0.0  \n",
       "389  0.017091   0.0  0.548040 -0.028908  0.018152   0.0  \n",
       "390  0.017250   0.0  0.506997  0.040154  0.018376   0.0  \n",
       "391  0.010968   0.0  0.509305  0.031508  0.011511   0.0  \n",
       "392  0.021598   0.0  0.577846  0.011801  0.022592   0.0  \n",
       "\n",
       "[5 rows x 2005 columns]"
      ]
     },
     "execution_count": 75,
     "metadata": {},
     "output_type": "execute_result"
    }
   ],
   "source": [
    "df.tail()"
   ]
  },
  {
   "cell_type": "code",
   "execution_count": 77,
   "metadata": {},
   "outputs": [
    {
     "data": {
      "text/html": [
       "<div>\n",
       "<style scoped>\n",
       "    .dataframe tbody tr th:only-of-type {\n",
       "        vertical-align: middle;\n",
       "    }\n",
       "\n",
       "    .dataframe tbody tr th {\n",
       "        vertical-align: top;\n",
       "    }\n",
       "\n",
       "    .dataframe thead th {\n",
       "        text-align: right;\n",
       "    }\n",
       "</style>\n",
       "<table border=\"1\" class=\"dataframe\">\n",
       "  <thead>\n",
       "    <tr style=\"text-align: right;\">\n",
       "      <th></th>\n",
       "      <th>class</th>\n",
       "      <th>x1</th>\n",
       "      <th>y1</th>\n",
       "      <th>z1</th>\n",
       "      <th>v1</th>\n",
       "      <th>x2</th>\n",
       "      <th>y2</th>\n",
       "      <th>z2</th>\n",
       "      <th>v2</th>\n",
       "      <th>x3</th>\n",
       "      <th>...</th>\n",
       "      <th>z499</th>\n",
       "      <th>v499</th>\n",
       "      <th>x500</th>\n",
       "      <th>y500</th>\n",
       "      <th>z500</th>\n",
       "      <th>v500</th>\n",
       "      <th>x501</th>\n",
       "      <th>y501</th>\n",
       "      <th>z501</th>\n",
       "      <th>v501</th>\n",
       "    </tr>\n",
       "  </thead>\n",
       "  <tbody>\n",
       "    <tr>\n",
       "      <th>389</th>\n",
       "      <td>Standing Up</td>\n",
       "      <td>0.483750</td>\n",
       "      <td>0.047641</td>\n",
       "      <td>-0.791061</td>\n",
       "      <td>0.999933</td>\n",
       "      <td>0.508691</td>\n",
       "      <td>0.001452</td>\n",
       "      <td>-0.762163</td>\n",
       "      <td>0.999869</td>\n",
       "      <td>0.522984</td>\n",
       "      <td>...</td>\n",
       "      <td>0.000877</td>\n",
       "      <td>0.0</td>\n",
       "      <td>0.543293</td>\n",
       "      <td>-0.020725</td>\n",
       "      <td>0.017091</td>\n",
       "      <td>0.0</td>\n",
       "      <td>0.548040</td>\n",
       "      <td>-0.028908</td>\n",
       "      <td>0.018152</td>\n",
       "      <td>0.0</td>\n",
       "    </tr>\n",
       "    <tr>\n",
       "      <th>390</th>\n",
       "      <td>Standing Up</td>\n",
       "      <td>0.473050</td>\n",
       "      <td>0.031469</td>\n",
       "      <td>-0.445751</td>\n",
       "      <td>0.999833</td>\n",
       "      <td>0.487423</td>\n",
       "      <td>0.001360</td>\n",
       "      <td>-0.426568</td>\n",
       "      <td>0.999568</td>\n",
       "      <td>0.496246</td>\n",
       "      <td>...</td>\n",
       "      <td>0.001607</td>\n",
       "      <td>0.0</td>\n",
       "      <td>0.505612</td>\n",
       "      <td>0.043462</td>\n",
       "      <td>0.017250</td>\n",
       "      <td>0.0</td>\n",
       "      <td>0.506997</td>\n",
       "      <td>0.040154</td>\n",
       "      <td>0.018376</td>\n",
       "      <td>0.0</td>\n",
       "    </tr>\n",
       "    <tr>\n",
       "      <th>391</th>\n",
       "      <td>Standing Up</td>\n",
       "      <td>0.488846</td>\n",
       "      <td>0.020633</td>\n",
       "      <td>-0.526126</td>\n",
       "      <td>0.999841</td>\n",
       "      <td>0.502742</td>\n",
       "      <td>-0.008212</td>\n",
       "      <td>-0.504925</td>\n",
       "      <td>0.999583</td>\n",
       "      <td>0.512030</td>\n",
       "      <td>...</td>\n",
       "      <td>0.000906</td>\n",
       "      <td>0.0</td>\n",
       "      <td>0.508203</td>\n",
       "      <td>0.033624</td>\n",
       "      <td>0.010968</td>\n",
       "      <td>0.0</td>\n",
       "      <td>0.509305</td>\n",
       "      <td>0.031508</td>\n",
       "      <td>0.011511</td>\n",
       "      <td>0.0</td>\n",
       "    </tr>\n",
       "    <tr>\n",
       "      <th>392</th>\n",
       "      <td>Standing Up</td>\n",
       "      <td>0.536482</td>\n",
       "      <td>0.025484</td>\n",
       "      <td>-0.605942</td>\n",
       "      <td>0.999599</td>\n",
       "      <td>0.558236</td>\n",
       "      <td>-0.007861</td>\n",
       "      <td>-0.577477</td>\n",
       "      <td>0.998839</td>\n",
       "      <td>0.570211</td>\n",
       "      <td>...</td>\n",
       "      <td>0.006773</td>\n",
       "      <td>0.0</td>\n",
       "      <td>0.574597</td>\n",
       "      <td>0.015530</td>\n",
       "      <td>0.021598</td>\n",
       "      <td>0.0</td>\n",
       "      <td>0.577846</td>\n",
       "      <td>0.011801</td>\n",
       "      <td>0.022592</td>\n",
       "      <td>0.0</td>\n",
       "    </tr>\n",
       "  </tbody>\n",
       "</table>\n",
       "<p>4 rows × 2005 columns</p>\n",
       "</div>"
      ],
      "text/plain": [
       "           class        x1        y1        z1        v1        x2        y2  \\\n",
       "389  Standing Up  0.483750  0.047641 -0.791061  0.999933  0.508691  0.001452   \n",
       "390  Standing Up  0.473050  0.031469 -0.445751  0.999833  0.487423  0.001360   \n",
       "391  Standing Up  0.488846  0.020633 -0.526126  0.999841  0.502742 -0.008212   \n",
       "392  Standing Up  0.536482  0.025484 -0.605942  0.999599  0.558236 -0.007861   \n",
       "\n",
       "           z2        v2        x3  ...      z499  v499      x500      y500  \\\n",
       "389 -0.762163  0.999869  0.522984  ...  0.000877   0.0  0.543293 -0.020725   \n",
       "390 -0.426568  0.999568  0.496246  ...  0.001607   0.0  0.505612  0.043462   \n",
       "391 -0.504925  0.999583  0.512030  ...  0.000906   0.0  0.508203  0.033624   \n",
       "392 -0.577477  0.998839  0.570211  ...  0.006773   0.0  0.574597  0.015530   \n",
       "\n",
       "         z500  v500      x501      y501      z501  v501  \n",
       "389  0.017091   0.0  0.548040 -0.028908  0.018152   0.0  \n",
       "390  0.017250   0.0  0.506997  0.040154  0.018376   0.0  \n",
       "391  0.010968   0.0  0.509305  0.031508  0.011511   0.0  \n",
       "392  0.021598   0.0  0.577846  0.011801  0.022592   0.0  \n",
       "\n",
       "[4 rows x 2005 columns]"
      ]
     },
     "execution_count": 77,
     "metadata": {},
     "output_type": "execute_result"
    }
   ],
   "source": [
    "df[df['class']=='Standing Up']"
   ]
  },
  {
   "cell_type": "code",
   "execution_count": 55,
   "metadata": {},
   "outputs": [],
   "source": [
    "X = df.drop('class', axis=1) # features\n",
    "y = df['class'] # target value"
   ]
  },
  {
   "cell_type": "code",
   "execution_count": 56,
   "metadata": {},
   "outputs": [],
   "source": [
    "X_train, X_test, y_train, y_test = train_test_split(X, y, test_size=0.3, random_state=1234)"
   ]
  },
  {
   "cell_type": "code",
   "execution_count": 57,
   "metadata": {},
   "outputs": [
    {
     "data": {
      "text/plain": [
       "40     Thumbs Up\n",
       "44     Thumbs Up\n",
       "304       Drowsy\n",
       "59     Thumbs Up\n",
       "267       Drowsy\n",
       "         ...    \n",
       "162    Thumbs Up\n",
       "385       Drowsy\n",
       "253       Drowsy\n",
       "133    Thumbs Up\n",
       "262       Drowsy\n",
       "Name: class, Length: 118, dtype: object"
      ]
     },
     "execution_count": 57,
     "metadata": {},
     "output_type": "execute_result"
    }
   ],
   "source": [
    "y_test"
   ]
  },
  {
   "cell_type": "markdown",
   "metadata": {},
   "source": [
    "### 2 Train Machine Learning Classification Model"
   ]
  },
  {
   "cell_type": "code",
   "execution_count": 58,
   "metadata": {},
   "outputs": [],
   "source": [
    "from sklearn.pipeline import make_pipeline \n",
    "from sklearn.preprocessing import StandardScaler # for standardizing the data so that no one feture overshadows another\n",
    "\n",
    "from sklearn.linear_model import LogisticRegression, RidgeClassifier\n",
    "from sklearn.ensemble import RandomForestClassifier, GradientBoostingClassifier"
   ]
  },
  {
   "cell_type": "code",
   "execution_count": 59,
   "metadata": {},
   "outputs": [],
   "source": [
    "pipelines = {\n",
    "    'lr':make_pipeline(StandardScaler(), LogisticRegression()),\n",
    "    'rc':make_pipeline(StandardScaler(), RidgeClassifier()),\n",
    "    'rf':make_pipeline(StandardScaler(), RandomForestClassifier()),\n",
    "    'gb':make_pipeline(StandardScaler(), GradientBoostingClassifier()),\n",
    "}"
   ]
  },
  {
   "cell_type": "code",
   "execution_count": 60,
   "metadata": {},
   "outputs": [
    {
     "name": "stderr",
     "output_type": "stream",
     "text": [
      "C:\\Users\\Pratik\\AppData\\Local\\Packages\\PythonSoftwareFoundation.Python.3.9_qbz5n2kfra8p0\\LocalCache\\local-packages\\Python39\\site-packages\\sklearn\\linear_model\\_logistic.py:814: ConvergenceWarning: lbfgs failed to converge (status=1):\n",
      "STOP: TOTAL NO. of ITERATIONS REACHED LIMIT.\n",
      "\n",
      "Increase the number of iterations (max_iter) or scale the data as shown in:\n",
      "    https://scikit-learn.org/stable/modules/preprocessing.html\n",
      "Please also refer to the documentation for alternative solver options:\n",
      "    https://scikit-learn.org/stable/modules/linear_model.html#logistic-regression\n",
      "  n_iter_i = _check_optimize_result(\n"
     ]
    }
   ],
   "source": [
    "fit_models = {}\n",
    "for algo, pipeline in pipelines.items():\n",
    "    model = pipeline.fit(X_train, y_train)\n",
    "    fit_models[algo] = model"
   ]
  },
  {
   "cell_type": "code",
   "execution_count": 61,
   "metadata": {},
   "outputs": [
    {
     "data": {
      "text/plain": [
       "{'lr': Pipeline(steps=[('standardscaler', StandardScaler()),\n",
       "                 ('logisticregression', LogisticRegression())]),\n",
       " 'rc': Pipeline(steps=[('standardscaler', StandardScaler()),\n",
       "                 ('ridgeclassifier', RidgeClassifier())]),\n",
       " 'rf': Pipeline(steps=[('standardscaler', StandardScaler()),\n",
       "                 ('randomforestclassifier', RandomForestClassifier())]),\n",
       " 'gb': Pipeline(steps=[('standardscaler', StandardScaler()),\n",
       "                 ('gradientboostingclassifier', GradientBoostingClassifier())])}"
      ]
     },
     "execution_count": 61,
     "metadata": {},
     "output_type": "execute_result"
    }
   ],
   "source": [
    "fit_models"
   ]
  },
  {
   "cell_type": "code",
   "execution_count": 62,
   "metadata": {},
   "outputs": [
    {
     "data": {
      "text/plain": [
       "array(['Thumbs Up', 'Thumbs Up', 'Drowsy', 'Thumbs Up', 'Drowsy',\n",
       "       'Drowsy', 'Drowsy', 'Drowsy', 'Thumbs Up', 'Drowsy', 'Thumbs Up',\n",
       "       'Drowsy', 'Thumbs Up', 'Drowsy', 'Drowsy', 'Thumbs Up',\n",
       "       'Thumbs Up', 'Drowsy', 'Thumbs Up', 'Drowsy', 'Drowsy', 'Drowsy',\n",
       "       'Drowsy', 'Drowsy', 'Thumbs Up', 'Thumbs Up', 'Drowsy', 'Drowsy',\n",
       "       'Thumbs Up', 'Thumbs Up', 'Drowsy', 'Thumbs Up', 'Drowsy',\n",
       "       'Thumbs Up', 'Thumbs Up', 'Drowsy', 'Drowsy', 'Thumbs Up',\n",
       "       'Drowsy', 'Thumbs Up', 'Thumbs Up', 'Drowsy', 'Drowsy', 'Drowsy',\n",
       "       'Thumbs Up', 'Drowsy', 'Thumbs Up', 'Drowsy', 'Thumbs Up',\n",
       "       'Drowsy', 'Drowsy', 'Thumbs Up', 'Drowsy', 'Drowsy', 'Drowsy',\n",
       "       'Drowsy', 'Thumbs Up', 'Thumbs Up', 'Thumbs Up', 'Drowsy',\n",
       "       'Drowsy', 'Drowsy', 'Thumbs Up', 'Thumbs Up', 'Thumbs Up',\n",
       "       'Drowsy', 'Drowsy', 'Drowsy', 'Thumbs Up', 'Drowsy', 'Drowsy',\n",
       "       'Drowsy', 'Thumbs Up', 'Drowsy', 'Thumbs Up', 'Drowsy',\n",
       "       'Thumbs Up', 'Drowsy', 'Drowsy', 'Drowsy', 'Thumbs Up',\n",
       "       'Thumbs Up', 'Drowsy', 'Thumbs Up', 'Drowsy', 'Drowsy', 'Drowsy',\n",
       "       'Thumbs Up', 'Thumbs Up', 'Drowsy', 'Thumbs Up', 'Drowsy',\n",
       "       'Drowsy', 'Drowsy', 'Thumbs Up', 'Thumbs Up', 'Drowsy',\n",
       "       'Thumbs Up', 'Thumbs Up', 'Thumbs Up', 'Drowsy', 'Drowsy',\n",
       "       'Drowsy', 'Thumbs Up', 'Thumbs Up', 'Thumbs Up', 'Drowsy',\n",
       "       'Drowsy', 'Drowsy', 'Thumbs Up', 'Thumbs Up', 'Thumbs Up',\n",
       "       'Thumbs Up', 'Thumbs Up', 'Drowsy', 'Drowsy', 'Thumbs Up',\n",
       "       'Drowsy'], dtype=object)"
      ]
     },
     "execution_count": 62,
     "metadata": {},
     "output_type": "execute_result"
    }
   ],
   "source": [
    "fit_models['rf'].predict(X_test)"
   ]
  },
  {
   "cell_type": "markdown",
   "metadata": {},
   "source": [
    "### 3 Evaluate and Serialize Model "
   ]
  },
  {
   "cell_type": "code",
   "execution_count": 63,
   "metadata": {},
   "outputs": [],
   "source": [
    "from sklearn.metrics import accuracy_score # Accuracy metrics \n",
    "import pickle "
   ]
  },
  {
   "cell_type": "code",
   "execution_count": 64,
   "metadata": {},
   "outputs": [
    {
     "name": "stdout",
     "output_type": "stream",
     "text": [
      "lr 1.0\n",
      "rc 1.0\n",
      "rf 1.0\n",
      "gb 1.0\n"
     ]
    }
   ],
   "source": [
    "for algo, model in fit_models.items():\n",
    "    pred = model.predict(X_test)\n",
    "    print(algo, accuracy_score(y_test, pred))"
   ]
  },
  {
   "cell_type": "code",
   "execution_count": 65,
   "metadata": {},
   "outputs": [
    {
     "data": {
      "text/plain": [
       "array(['Thumbs Up', 'Thumbs Up', 'Drowsy', 'Thumbs Up', 'Drowsy',\n",
       "       'Drowsy', 'Drowsy', 'Drowsy', 'Thumbs Up', 'Drowsy', 'Thumbs Up',\n",
       "       'Drowsy', 'Thumbs Up', 'Drowsy', 'Drowsy', 'Thumbs Up',\n",
       "       'Thumbs Up', 'Drowsy', 'Thumbs Up', 'Drowsy', 'Drowsy', 'Drowsy',\n",
       "       'Drowsy', 'Drowsy', 'Thumbs Up', 'Thumbs Up', 'Drowsy', 'Drowsy',\n",
       "       'Thumbs Up', 'Thumbs Up', 'Drowsy', 'Thumbs Up', 'Drowsy',\n",
       "       'Thumbs Up', 'Thumbs Up', 'Drowsy', 'Drowsy', 'Thumbs Up',\n",
       "       'Drowsy', 'Thumbs Up', 'Thumbs Up', 'Drowsy', 'Drowsy', 'Drowsy',\n",
       "       'Thumbs Up', 'Drowsy', 'Thumbs Up', 'Drowsy', 'Thumbs Up',\n",
       "       'Drowsy', 'Drowsy', 'Thumbs Up', 'Drowsy', 'Drowsy', 'Drowsy',\n",
       "       'Drowsy', 'Thumbs Up', 'Thumbs Up', 'Thumbs Up', 'Drowsy',\n",
       "       'Drowsy', 'Drowsy', 'Thumbs Up', 'Thumbs Up', 'Thumbs Up',\n",
       "       'Drowsy', 'Drowsy', 'Drowsy', 'Thumbs Up', 'Drowsy', 'Drowsy',\n",
       "       'Drowsy', 'Thumbs Up', 'Drowsy', 'Thumbs Up', 'Drowsy',\n",
       "       'Thumbs Up', 'Drowsy', 'Drowsy', 'Drowsy', 'Thumbs Up',\n",
       "       'Thumbs Up', 'Drowsy', 'Thumbs Up', 'Drowsy', 'Drowsy', 'Drowsy',\n",
       "       'Thumbs Up', 'Thumbs Up', 'Drowsy', 'Thumbs Up', 'Drowsy',\n",
       "       'Drowsy', 'Drowsy', 'Thumbs Up', 'Thumbs Up', 'Drowsy',\n",
       "       'Thumbs Up', 'Thumbs Up', 'Thumbs Up', 'Drowsy', 'Drowsy',\n",
       "       'Drowsy', 'Thumbs Up', 'Thumbs Up', 'Thumbs Up', 'Drowsy',\n",
       "       'Drowsy', 'Drowsy', 'Thumbs Up', 'Thumbs Up', 'Thumbs Up',\n",
       "       'Thumbs Up', 'Thumbs Up', 'Drowsy', 'Drowsy', 'Thumbs Up',\n",
       "       'Drowsy'], dtype=object)"
      ]
     },
     "execution_count": 65,
     "metadata": {},
     "output_type": "execute_result"
    }
   ],
   "source": [
    "fit_models['rf'].predict(X_test)"
   ]
  },
  {
   "cell_type": "code",
   "execution_count": 66,
   "metadata": {},
   "outputs": [
    {
     "data": {
      "text/plain": [
       "40     Thumbs Up\n",
       "44     Thumbs Up\n",
       "304       Drowsy\n",
       "59     Thumbs Up\n",
       "267       Drowsy\n",
       "         ...    \n",
       "162    Thumbs Up\n",
       "385       Drowsy\n",
       "253       Drowsy\n",
       "133    Thumbs Up\n",
       "262       Drowsy\n",
       "Name: class, Length: 118, dtype: object"
      ]
     },
     "execution_count": 66,
     "metadata": {},
     "output_type": "execute_result"
    }
   ],
   "source": [
    "y_test"
   ]
  },
  {
   "cell_type": "code",
   "execution_count": 67,
   "metadata": {},
   "outputs": [],
   "source": [
    "# Exporting our best Model in a file and save it\n",
    "\n",
    "with open('body_language.pkl', 'wb') as f:\n",
    "    pickle.dump(fit_models['rf'], f)"
   ]
  },
  {
   "cell_type": "markdown",
   "metadata": {},
   "source": [
    "#  Make Detections with Model"
   ]
  },
  {
   "cell_type": "code",
   "execution_count": 68,
   "metadata": {},
   "outputs": [],
   "source": [
    "with open('body_language.pkl', 'rb') as f:\n",
    "    model = pickle.load(f)"
   ]
  },
  {
   "cell_type": "code",
   "execution_count": 69,
   "metadata": {},
   "outputs": [
    {
     "data": {
      "text/plain": [
       "Pipeline(steps=[('standardscaler', StandardScaler()),\n",
       "                ('randomforestclassifier', RandomForestClassifier())])"
      ]
     },
     "execution_count": 69,
     "metadata": {},
     "output_type": "execute_result"
    }
   ],
   "source": [
    "model"
   ]
  },
  {
   "cell_type": "code",
   "execution_count": null,
   "metadata": {},
   "outputs": [],
   "source": [
    "cap = cv2.VideoCapture(0)\n",
    "# Initiate holistic model\n",
    "with mp_holistic.Holistic(min_detection_confidence=0.5, min_tracking_confidence=0.5) as holistic:\n",
    "    \n",
    "    while cap.isOpened():\n",
    "        ret, frame = cap.read()\n",
    "        \n",
    "        # Recolor Feed\n",
    "        image = cv2.cvtColor(frame, cv2.COLOR_BGR2RGB)\n",
    "        image.flags.writeable = False        \n",
    "        \n",
    "        # Make Detections\n",
    "        results = holistic.process(image)\n",
    "        # print(results.face_landmarks)\n",
    "        \n",
    "                \n",
    "        # Recolor image back to BGR for rendering\n",
    "        image.flags.writeable = True   \n",
    "        image = cv2.cvtColor(image, cv2.COLOR_RGB2BGR)\n",
    "        \n",
    "        #  Draw face landmarks\n",
    "        mp_drawing.draw_landmarks(image, results.face_landmarks, mp_holistic.FACEMESH_CONTOURS, \n",
    "                                 mp_drawing.DrawingSpec(color=(80,110,10), thickness=1, circle_radius=1),\n",
    "                                 mp_drawing.DrawingSpec(color=(80,256,121), thickness=1, circle_radius=1)\n",
    "                                 )\n",
    "        \n",
    "        #  Right hand\n",
    "        mp_drawing.draw_landmarks(image, results.right_hand_landmarks, mp_holistic.HAND_CONNECTIONS, \n",
    "                                 mp_drawing.DrawingSpec(color=(80,22,10), thickness=2, circle_radius=4),\n",
    "                                 mp_drawing.DrawingSpec(color=(80,44,121), thickness=2, circle_radius=2)\n",
    "                                 )\n",
    "\n",
    "        #  Left Hand\n",
    "        mp_drawing.draw_landmarks(image, results.left_hand_landmarks, mp_holistic.HAND_CONNECTIONS, \n",
    "                                 mp_drawing.DrawingSpec(color=(121,22,76), thickness=2, circle_radius=4),\n",
    "                                 mp_drawing.DrawingSpec(color=(121,44,250), thickness=2, circle_radius=2)\n",
    "                                 )\n",
    "\n",
    "        #  Body Pose \n",
    "        mp_drawing.draw_landmarks(image, results.pose_landmarks, mp_holistic.POSE_CONNECTIONS, \n",
    "                                 mp_drawing.DrawingSpec(color=(245,117,66), thickness=2, circle_radius=4),\n",
    "                                 mp_drawing.DrawingSpec(color=(245,66,230), thickness=2, circle_radius=2)\n",
    "                                 )\n",
    "        # Export coordinates\n",
    "        try:\n",
    "            # Extract Pose landmarks\n",
    "            pose = results.pose_landmarks.landmark\n",
    "            pose_row = list(np.array([[landmark.x, landmark.y, landmark.z, landmark.visibility] for landmark in pose]).flatten())\n",
    "            \n",
    "            # Extract Face landmarks\n",
    "            face = results.face_landmarks.landmark\n",
    "            face_row = list(np.array([[landmark.x, landmark.y, landmark.z, landmark.visibility] for landmark in face]).flatten())\n",
    "            \n",
    "            # Concate rows\n",
    "            row = pose_row+face_row\n",
    "        \n",
    "\n",
    "            # Make Detections\n",
    "            X = pd.DataFrame([row])\n",
    "            body_language_class = model.predict(X)[0]\n",
    "            body_language_prob = model.predict_proba(X)[0]\n",
    "            print(body_language_class, body_language_prob)\n",
    "            \n",
    "            # Grab ear coords\n",
    "            coords = tuple(np.multiply(\n",
    "                            np.array(\n",
    "                                (results.pose_landmarks.landmark[mp_holistic.PoseLandmark.LEFT_EAR].x, \n",
    "                                 results.pose_landmarks.landmark[mp_holistic.PoseLandmark.LEFT_EAR].y))\n",
    "                        , [640,480]).astype(int))\n",
    "            \n",
    "            cv2.rectangle(image, \n",
    "                          (coords[0], coords[1]+5), \n",
    "                          (coords[0]+len(body_language_class)*20, coords[1]-30), \n",
    "                          (245, 117, 16), -1)\n",
    "            cv2.putText(image, body_language_class, coords, \n",
    "                        cv2.FONT_HERSHEY_SIMPLEX, 1, (255, 255, 255), 2, cv2.LINE_AA)\n",
    "            \n",
    "            # Get status box\n",
    "            cv2.rectangle(image, (0,0), (250, 60), (245, 117, 16), -1)\n",
    "            \n",
    "            # Display Class\n",
    "            cv2.putText(image, 'CLASS'\n",
    "                        , (95,12), cv2.FONT_HERSHEY_SIMPLEX, 0.5, (0, 0, 0), 1, cv2.LINE_AA)\n",
    "            cv2.putText(image, body_language_class.split(' ')[0]\n",
    "                        , (90,40), cv2.FONT_HERSHEY_SIMPLEX, 1, (255, 255, 255), 2, cv2.LINE_AA)\n",
    "            \n",
    "            # Display Probability\n",
    "            cv2.putText(image, 'PROB'\n",
    "                        , (15,12), cv2.FONT_HERSHEY_SIMPLEX, 0.5, (0, 0, 0), 1, cv2.LINE_AA)\n",
    "            cv2.putText(image, str(round(body_language_prob[np.argmax(body_language_prob)],2))\n",
    "                        , (10,40), cv2.FONT_HERSHEY_SIMPLEX, 1, (255, 255, 255), 2, cv2.LINE_AA)\n",
    "            \n",
    "        except:\n",
    "            pass\n",
    "                        \n",
    "        cv2.imshow('Raw Webcam Feed', image)\n",
    "\n",
    "        if cv2.waitKey(10) & 0xFF == ord('q'):\n",
    "            break\n",
    "\n",
    "cap.release()\n",
    "cv2.destroyAllWindows()"
   ]
  },
  {
   "cell_type": "code",
   "execution_count": 71,
   "metadata": {},
   "outputs": [
    {
     "data": {
      "text/plain": [
       "(381, 157)"
      ]
     },
     "execution_count": 71,
     "metadata": {},
     "output_type": "execute_result"
    }
   ],
   "source": [
    "tuple(np.multiply(np.array((results.pose_landmarks.landmark[mp_holistic.PoseLandmark.LEFT_EAR].x, \n",
    "results.pose_landmarks.landmark[mp_holistic.PoseLandmark.LEFT_EAR].y)), [640,480]).astype(int))"
   ]
  },
  {
   "cell_type": "code",
   "execution_count": null,
   "metadata": {},
   "outputs": [],
   "source": []
  },
  {
   "cell_type": "code",
   "execution_count": null,
   "metadata": {},
   "outputs": [],
   "source": []
  },
  {
   "cell_type": "code",
   "execution_count": null,
   "metadata": {},
   "outputs": [],
   "source": []
  }
 ],
 "metadata": {
  "kernelspec": {
   "display_name": "Python 3 (ipykernel)",
   "language": "python",
   "name": "python3"
  },
  "language_info": {
   "codemirror_mode": {
    "name": "ipython",
    "version": 3
   },
   "file_extension": ".py",
   "mimetype": "text/x-python",
   "name": "python",
   "nbconvert_exporter": "python",
   "pygments_lexer": "ipython3",
   "version": "3.9.8"
  }
 },
 "nbformat": 4,
 "nbformat_minor": 4
}
